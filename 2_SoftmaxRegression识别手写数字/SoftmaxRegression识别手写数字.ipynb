{
 "cells": [
  {
   "cell_type": "code",
   "execution_count": 1,
   "metadata": {
    "collapsed": false,
    "deletable": true,
    "editable": true
   },
   "outputs": [
    {
     "name": "stdout",
     "output_type": "stream",
     "text": [
      "Extracting MNIST_data/train-images-idx3-ubyte.gz\n",
      "Extracting MNIST_data/train-labels-idx1-ubyte.gz\n",
      "Extracting MNIST_data/t10k-images-idx3-ubyte.gz\n",
      "Extracting MNIST_data/t10k-labels-idx1-ubyte.gz\n"
     ]
    }
   ],
   "source": [
    "from tensorflow.examples.tutorials.mnist import input_data\n",
    "mnist=input_data.read_data_sets('MNIST_data/',one_hot=True)\n",
    "# 如果报错，则先将下载的数据集MNIST_data放入代码所在文件夹下，再运行以下代码。"
   ]
  },
  {
   "cell_type": "code",
   "execution_count": 2,
   "metadata": {
    "collapsed": false,
    "deletable": true,
    "editable": true
   },
   "outputs": [
    {
     "name": "stdout",
     "output_type": "stream",
     "text": [
      "train: (55000, 784) (55000, 10)\n",
      "test: (10000, 784) (10000, 10)\n",
      "validation: (5000, 784) (5000, 10)\n"
     ]
    }
   ],
   "source": [
    "# 打印数据集基本信息\n",
    "print 'train:',mnist.train.images.shape,mnist.train.labels.shape\n",
    "print 'test:',mnist.test.images.shape,mnist.test.labels.shape\n",
    "print 'validation:',mnist.validation.images.shape,mnist.validation.labels.shape"
   ]
  },
  {
   "cell_type": "code",
   "execution_count": 3,
   "metadata": {
    "collapsed": true,
    "deletable": true,
    "editable": true
   },
   "outputs": [],
   "source": [
    "# 实现softmax regression模型\n",
    "import tensorflow as tf\n",
    "x=tf.placeholder(tf.float32,[None,784]) # x 使用占位符，在后续输入时填充\n",
    "W=tf.Variable(tf.zeros([784,10])) # W 和 b 参数使用Variable，在迭代过程中不断更新\n",
    "b=tf.Variable(tf.zeros([10]))\n",
    "y=tf.nn.softmax(tf.matmul(x,W)+b) # 即 y = softmax(xW+b)"
   ]
  },
  {
   "cell_type": "code",
   "execution_count": 4,
   "metadata": {
    "collapsed": true,
    "deletable": true,
    "editable": true
   },
   "outputs": [],
   "source": [
    "# 用cross_entropy作损失函数\n",
    "y_=tf.placeholder(tf.float32,[None,10]) # y_表示 label的实际值\n",
    "cross_entropy=-tf.reduce_sum(y_*tf.log(y)) # 实现交叉熵函数"
   ]
  },
  {
   "cell_type": "code",
   "execution_count": 5,
   "metadata": {
    "collapsed": false,
    "deletable": true,
    "editable": true
   },
   "outputs": [],
   "source": [
    "# 训练模型\n",
    "train_step=tf.train.GradientDescentOptimizer(0.01).minimize(cross_entropy)\n",
    "\n",
    "init=tf.global_variables_initializer() # 对所有的参数进行初始化\n",
    "sess=tf.Session() # 在一个Session里运行模型\n",
    "sess.run(init) # 执行初始化\n",
    "\n",
    "# 迭代得进行训练\n",
    "for i in range(1000): \n",
    "    batch_xs,batch_ys=mnist.train.next_batch(100) # 每次随机取100个样本进行训练\n",
    "    sess.run(train_step,feed_dict={x:batch_xs,y_:batch_ys})"
   ]
  },
  {
   "cell_type": "code",
   "execution_count": 6,
   "metadata": {
    "collapsed": false,
    "deletable": true,
    "editable": true
   },
   "outputs": [
    {
     "name": "stdout",
     "output_type": "stream",
     "text": [
      "0.9195\n"
     ]
    }
   ],
   "source": [
    "# 判断预测值与真实值是否相等，返回的correct_prediction是一个布尔值的列表，例如 [True, False, True, True]。\n",
    "correct_prediction=tf.equal(tf.argmax(y,1),tf.argmax(y_,1))\n",
    "# 将correct_prediction输出的bool值转换为float，再求平均\n",
    "accuracy=tf.reduce_mean(tf.cast(correct_prediction,'float'))\n",
    "# 输出模型在测试及上的准确率\n",
    "print(sess.run(accuracy,feed_dict={x:mnist.test.images,y_:mnist.test.labels}))"
   ]
  }
 ],
 "metadata": {
  "kernelspec": {
   "display_name": "Python 2",
   "language": "python",
   "name": "python2"
  },
  "language_info": {
   "codemirror_mode": {
    "name": "ipython",
    "version": 2
   },
   "file_extension": ".py",
   "mimetype": "text/x-python",
   "name": "python",
   "nbconvert_exporter": "python",
   "pygments_lexer": "ipython2",
   "version": "2.7.13"
  }
 },
 "nbformat": 4,
 "nbformat_minor": 2
}
